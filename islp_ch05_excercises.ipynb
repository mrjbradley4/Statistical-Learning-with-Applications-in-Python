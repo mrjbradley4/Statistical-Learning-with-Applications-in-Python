{
 "cells": [
  {
   "cell_type": "markdown",
   "id": "aa928336-8b29-4b85-a977-86cb85a42136",
   "metadata": {},
   "source": [
    "## Question 5"
   ]
  },
  {
   "cell_type": "code",
   "execution_count": 20,
   "id": "9a60ed9c-c5f2-42f4-906a-fbea8722beb1",
   "metadata": {},
   "outputs": [],
   "source": [
    "import numpy as np\n",
    "import statsmodels.api as sm\n",
    "from ISLP import load_data\n",
    "from ISLP.models import (ModelSpec as MS,\n",
    "                         summarize,\n",
    "                         poly)\n",
    "from sklearn.model_selection import train_test_split\n",
    "from functools import partial\n",
    "from sklearn.model_selection import \\\n",
    "     (cross_validate,\n",
    "      KFold,\n",
    "      ShuffleSplit)\n",
    "from sklearn.base import clone\n",
    "from ISLP.models import sklearn_sm\n",
    "import pandas as pd"
   ]
  },
  {
   "cell_type": "code",
   "execution_count": 21,
   "id": "21f13a0e-99d3-4784-9d24-733102bbf7c5",
   "metadata": {},
   "outputs": [],
   "source": [
    "Default = load_data('Default')"
   ]
  },
  {
   "cell_type": "code",
   "execution_count": 22,
   "id": "27c4e50e-94a6-41a3-bebc-bc3604e97a68",
   "metadata": {},
   "outputs": [
    {
     "data": {
      "text/plain": [
       "Index(['default', 'student', 'balance', 'income'], dtype='object')"
      ]
     },
     "execution_count": 22,
     "metadata": {},
     "output_type": "execute_result"
    }
   ],
   "source": [
    "Default.columns"
   ]
  },
  {
   "cell_type": "code",
   "execution_count": 23,
   "id": "7d318b7b-07fb-497f-8bcf-7b62565bd85b",
   "metadata": {},
   "outputs": [
    {
     "data": {
      "text/html": [
       "<div>\n",
       "<style scoped>\n",
       "    .dataframe tbody tr th:only-of-type {\n",
       "        vertical-align: middle;\n",
       "    }\n",
       "\n",
       "    .dataframe tbody tr th {\n",
       "        vertical-align: top;\n",
       "    }\n",
       "\n",
       "    .dataframe thead th {\n",
       "        text-align: right;\n",
       "    }\n",
       "</style>\n",
       "<table border=\"1\" class=\"dataframe\">\n",
       "  <thead>\n",
       "    <tr style=\"text-align: right;\">\n",
       "      <th></th>\n",
       "      <th>coef</th>\n",
       "      <th>std err</th>\n",
       "      <th>z</th>\n",
       "      <th>P&gt;|z|</th>\n",
       "    </tr>\n",
       "  </thead>\n",
       "  <tbody>\n",
       "    <tr>\n",
       "      <th>intercept</th>\n",
       "      <td>-11.540500</td>\n",
       "      <td>0.435000</td>\n",
       "      <td>-26.544</td>\n",
       "      <td>0.0</td>\n",
       "    </tr>\n",
       "    <tr>\n",
       "      <th>balance</th>\n",
       "      <td>0.005600</td>\n",
       "      <td>0.000000</td>\n",
       "      <td>24.835</td>\n",
       "      <td>0.0</td>\n",
       "    </tr>\n",
       "    <tr>\n",
       "      <th>income</th>\n",
       "      <td>0.000021</td>\n",
       "      <td>0.000005</td>\n",
       "      <td>4.174</td>\n",
       "      <td>0.0</td>\n",
       "    </tr>\n",
       "  </tbody>\n",
       "</table>\n",
       "</div>"
      ],
      "text/plain": [
       "                coef   std err       z  P>|z|\n",
       "intercept -11.540500  0.435000 -26.544    0.0\n",
       "balance     0.005600  0.000000  24.835    0.0\n",
       "income      0.000021  0.000005   4.174    0.0"
      ]
     },
     "execution_count": 23,
     "metadata": {},
     "output_type": "execute_result"
    }
   ],
   "source": [
    "vars = Default.columns.drop(['default', 'student'])\n",
    "design = MS(vars)\n",
    "X = design.fit_transform(Default)\n",
    "y = Default.default == 'Yes'\n",
    "glm = sm.GLM(y,\n",
    "             X,\n",
    "             family = sm.families.Binomial())\n",
    "results = glm.fit()\n",
    "summarize(results)"
   ]
  },
  {
   "cell_type": "code",
   "execution_count": 24,
   "id": "23b9b4c7-c4c6-4c0c-8ee8-7978555dfa7f",
   "metadata": {},
   "outputs": [],
   "source": [
    "seed = np.random.seed(0)"
   ]
  },
  {
   "cell_type": "code",
   "execution_count": 25,
   "id": "33b5969e-5e47-481f-8c86-95b6d76b9d95",
   "metadata": {},
   "outputs": [],
   "source": [
    "Default_train, Default_valid = train_test_split(Default, test_size = 5000, random_state=0)"
   ]
  },
  {
   "cell_type": "code",
   "execution_count": 26,
   "id": "dd4c8d8a-7cab-406c-bbb8-677eee5b6cce",
   "metadata": {},
   "outputs": [],
   "source": [
    "m_train = MS(vars)\n",
    "X_train = m_train.fit_transform(Default_train)\n",
    "y_train = Default_train.default == 'Yes'\n",
    "model = sm.GLM(y_train, X_train, family = sm.families.Binomial())\n",
    "results = model.fit()"
   ]
  },
  {
   "cell_type": "code",
   "execution_count": 27,
   "id": "e72a9860-f607-453a-9830-e0dbdc1638e6",
   "metadata": {},
   "outputs": [
    {
     "data": {
      "text/plain": [
       "0.0398"
      ]
     },
     "execution_count": 27,
     "metadata": {},
     "output_type": "execute_result"
    }
   ],
   "source": [
    "X_valid = m_train.fit_transform(Default_valid)\n",
    "y_valid = Default_train.default == 'Yes'\n",
    "valid_pred = results.predict(X_valid)\n",
    "labels = np.array(['No']*5000)\n",
    "labels[valid_pred>0.5] = 'Yes'\n",
    "np.mean(labels != Default_valid.default)"
   ]
  },
  {
   "cell_type": "code",
   "execution_count": 31,
   "id": "a27ba9de-4847-450a-9e88-3badd64fda9f",
   "metadata": {},
   "outputs": [
    {
     "data": {
      "text/html": [
       "<div>\n",
       "<style scoped>\n",
       "    .dataframe tbody tr th:only-of-type {\n",
       "        vertical-align: middle;\n",
       "    }\n",
       "\n",
       "    .dataframe tbody tr th {\n",
       "        vertical-align: top;\n",
       "    }\n",
       "\n",
       "    .dataframe thead th {\n",
       "        text-align: right;\n",
       "    }\n",
       "</style>\n",
       "<table border=\"1\" class=\"dataframe\">\n",
       "  <thead>\n",
       "    <tr style=\"text-align: right;\">\n",
       "      <th></th>\n",
       "      <th>coef</th>\n",
       "      <th>std err</th>\n",
       "      <th>z</th>\n",
       "      <th>P&gt;|z|</th>\n",
       "    </tr>\n",
       "  </thead>\n",
       "  <tbody>\n",
       "    <tr>\n",
       "      <th>intercept</th>\n",
       "      <td>-7.294300</td>\n",
       "      <td>0.437000</td>\n",
       "      <td>-16.704</td>\n",
       "      <td>0.000</td>\n",
       "    </tr>\n",
       "    <tr>\n",
       "      <th>balance</th>\n",
       "      <td>0.005700</td>\n",
       "      <td>0.000000</td>\n",
       "      <td>16.740</td>\n",
       "      <td>0.000</td>\n",
       "    </tr>\n",
       "    <tr>\n",
       "      <th>income</th>\n",
       "      <td>-0.000009</td>\n",
       "      <td>0.000012</td>\n",
       "      <td>-0.732</td>\n",
       "      <td>0.464</td>\n",
       "    </tr>\n",
       "    <tr>\n",
       "      <th>student_No</th>\n",
       "      <td>-3.201200</td>\n",
       "      <td>0.304000</td>\n",
       "      <td>-10.522</td>\n",
       "      <td>0.000</td>\n",
       "    </tr>\n",
       "    <tr>\n",
       "      <th>student_Yes</th>\n",
       "      <td>-4.093000</td>\n",
       "      <td>0.249000</td>\n",
       "      <td>-16.435</td>\n",
       "      <td>0.000</td>\n",
       "    </tr>\n",
       "  </tbody>\n",
       "</table>\n",
       "</div>"
      ],
      "text/plain": [
       "                 coef   std err       z  P>|z|\n",
       "intercept   -7.294300  0.437000 -16.704  0.000\n",
       "balance      0.005700  0.000000  16.740  0.000\n",
       "income      -0.000009  0.000012  -0.732  0.464\n",
       "student_No  -3.201200  0.304000 -10.522  0.000\n",
       "student_Yes -4.093000  0.249000 -16.435  0.000"
      ]
     },
     "execution_count": 31,
     "metadata": {},
     "output_type": "execute_result"
    }
   ],
   "source": [
    "Default_train_numeric = pd.get_dummies(Default_train, columns = ['student'])\n",
    "vars_2 = Default_train_numeric.columns.drop(['default'])\n",
    "m_train = MS(vars_2)\n",
    "X_train = m_train.fit_transform(Default_train_numeric)\n",
    "y_train = Default_train.default == 'Yes'\n",
    "model = sm.GLM(y_train, X_train, family = sm.families.Binomial())\n",
    "results = model.fit()\n",
    "summarize(results)"
   ]
  },
  {
   "cell_type": "code",
   "execution_count": 34,
   "id": "8d296ab2-e2c0-463a-949e-73d0885f5463",
   "metadata": {},
   "outputs": [
    {
     "data": {
      "text/plain": [
       "0.0398"
      ]
     },
     "execution_count": 34,
     "metadata": {},
     "output_type": "execute_result"
    }
   ],
   "source": [
    "Default_valid_numeric = pd.get_dummies(Default_valid, columns = ['student'])\n",
    "X_valid = m_train.fit_transform(Default_valid_numeric)\n",
    "y_valid = Default_train_numeric.default == 'Yes'\n",
    "valid_pred = results.predict(X_valid)\n",
    "labels = np.array(['No']*5000)\n",
    "labels[valid_pred>0.5] = 'Yes'\n",
    "np.mean(labels != Default_valid_numeric.default)"
   ]
  },
  {
   "cell_type": "markdown",
   "id": "6c6cd0d1-cf16-41c4-be8b-181bb63ee33f",
   "metadata": {},
   "source": [
    "## Question 6"
   ]
  },
  {
   "cell_type": "code",
   "execution_count": 35,
   "id": "b6da737d-f5de-4dd6-bfb3-81eb30ad2c79",
   "metadata": {},
   "outputs": [],
   "source": [
    "del vars, design, X, y, glm, results"
   ]
  },
  {
   "cell_type": "code",
   "execution_count": 100,
   "id": "ef356e5e-8d39-482b-a84a-1882f352701f",
   "metadata": {},
   "outputs": [
    {
     "data": {
      "text/html": [
       "<div>\n",
       "<style scoped>\n",
       "    .dataframe tbody tr th:only-of-type {\n",
       "        vertical-align: middle;\n",
       "    }\n",
       "\n",
       "    .dataframe tbody tr th {\n",
       "        vertical-align: top;\n",
       "    }\n",
       "\n",
       "    .dataframe thead th {\n",
       "        text-align: right;\n",
       "    }\n",
       "</style>\n",
       "<table border=\"1\" class=\"dataframe\">\n",
       "  <thead>\n",
       "    <tr style=\"text-align: right;\">\n",
       "      <th></th>\n",
       "      <th>default</th>\n",
       "      <th>balance</th>\n",
       "      <th>income</th>\n",
       "      <th>student_Yes</th>\n",
       "      <th>student</th>\n",
       "    </tr>\n",
       "  </thead>\n",
       "  <tbody>\n",
       "    <tr>\n",
       "      <th>0</th>\n",
       "      <td>0</td>\n",
       "      <td>729.526495</td>\n",
       "      <td>44361.625074</td>\n",
       "      <td>0</td>\n",
       "      <td>0</td>\n",
       "    </tr>\n",
       "    <tr>\n",
       "      <th>1</th>\n",
       "      <td>0</td>\n",
       "      <td>817.180407</td>\n",
       "      <td>12106.134700</td>\n",
       "      <td>1</td>\n",
       "      <td>1</td>\n",
       "    </tr>\n",
       "    <tr>\n",
       "      <th>2</th>\n",
       "      <td>0</td>\n",
       "      <td>1073.549164</td>\n",
       "      <td>31767.138947</td>\n",
       "      <td>0</td>\n",
       "      <td>0</td>\n",
       "    </tr>\n",
       "    <tr>\n",
       "      <th>3</th>\n",
       "      <td>0</td>\n",
       "      <td>529.250605</td>\n",
       "      <td>35704.493935</td>\n",
       "      <td>0</td>\n",
       "      <td>0</td>\n",
       "    </tr>\n",
       "    <tr>\n",
       "      <th>4</th>\n",
       "      <td>0</td>\n",
       "      <td>785.655883</td>\n",
       "      <td>38463.495879</td>\n",
       "      <td>0</td>\n",
       "      <td>0</td>\n",
       "    </tr>\n",
       "    <tr>\n",
       "      <th>...</th>\n",
       "      <td>...</td>\n",
       "      <td>...</td>\n",
       "      <td>...</td>\n",
       "      <td>...</td>\n",
       "      <td>...</td>\n",
       "    </tr>\n",
       "    <tr>\n",
       "      <th>9995</th>\n",
       "      <td>0</td>\n",
       "      <td>711.555020</td>\n",
       "      <td>52992.378914</td>\n",
       "      <td>0</td>\n",
       "      <td>0</td>\n",
       "    </tr>\n",
       "    <tr>\n",
       "      <th>9996</th>\n",
       "      <td>0</td>\n",
       "      <td>757.962918</td>\n",
       "      <td>19660.721768</td>\n",
       "      <td>0</td>\n",
       "      <td>0</td>\n",
       "    </tr>\n",
       "    <tr>\n",
       "      <th>9997</th>\n",
       "      <td>0</td>\n",
       "      <td>845.411989</td>\n",
       "      <td>58636.156984</td>\n",
       "      <td>0</td>\n",
       "      <td>0</td>\n",
       "    </tr>\n",
       "    <tr>\n",
       "      <th>9998</th>\n",
       "      <td>0</td>\n",
       "      <td>1569.009053</td>\n",
       "      <td>36669.112365</td>\n",
       "      <td>0</td>\n",
       "      <td>0</td>\n",
       "    </tr>\n",
       "    <tr>\n",
       "      <th>9999</th>\n",
       "      <td>0</td>\n",
       "      <td>200.922183</td>\n",
       "      <td>16862.952321</td>\n",
       "      <td>1</td>\n",
       "      <td>1</td>\n",
       "    </tr>\n",
       "  </tbody>\n",
       "</table>\n",
       "<p>10000 rows × 5 columns</p>\n",
       "</div>"
      ],
      "text/plain": [
       "      default      balance        income  student_Yes  student\n",
       "0           0   729.526495  44361.625074            0        0\n",
       "1           0   817.180407  12106.134700            1        1\n",
       "2           0  1073.549164  31767.138947            0        0\n",
       "3           0   529.250605  35704.493935            0        0\n",
       "4           0   785.655883  38463.495879            0        0\n",
       "...       ...          ...           ...          ...      ...\n",
       "9995        0   711.555020  52992.378914            0        0\n",
       "9996        0   757.962918  19660.721768            0        0\n",
       "9997        0   845.411989  58636.156984            0        0\n",
       "9998        0  1569.009053  36669.112365            0        0\n",
       "9999        0   200.922183  16862.952321            1        1\n",
       "\n",
       "[10000 rows x 5 columns]"
      ]
     },
     "execution_count": 100,
     "metadata": {},
     "output_type": "execute_result"
    }
   ],
   "source": [
    "Default_numeric['default'] = (Default['default'] == 'Yes').astype(int)\n",
    "Default_numeric['student'] = (Default['student'] == 'Yes').astype(int)\n",
    "Default_numeric"
   ]
  },
  {
   "cell_type": "code",
   "execution_count": 91,
   "id": "aaebf7d7-f713-48d0-b936-7859d9015f1c",
   "metadata": {},
   "outputs": [
    {
     "data": {
      "text/html": [
       "<div>\n",
       "<style scoped>\n",
       "    .dataframe tbody tr th:only-of-type {\n",
       "        vertical-align: middle;\n",
       "    }\n",
       "\n",
       "    .dataframe tbody tr th {\n",
       "        vertical-align: top;\n",
       "    }\n",
       "\n",
       "    .dataframe thead th {\n",
       "        text-align: right;\n",
       "    }\n",
       "</style>\n",
       "<table border=\"1\" class=\"dataframe\">\n",
       "  <thead>\n",
       "    <tr style=\"text-align: right;\">\n",
       "      <th></th>\n",
       "      <th>coef</th>\n",
       "      <th>std err</th>\n",
       "      <th>z</th>\n",
       "      <th>P&gt;|z|</th>\n",
       "    </tr>\n",
       "  </thead>\n",
       "  <tbody>\n",
       "    <tr>\n",
       "      <th>intercept</th>\n",
       "      <td>-11.540500</td>\n",
       "      <td>0.435000</td>\n",
       "      <td>-26.544</td>\n",
       "      <td>0.0</td>\n",
       "    </tr>\n",
       "    <tr>\n",
       "      <th>balance</th>\n",
       "      <td>0.005600</td>\n",
       "      <td>0.000000</td>\n",
       "      <td>24.835</td>\n",
       "      <td>0.0</td>\n",
       "    </tr>\n",
       "    <tr>\n",
       "      <th>income</th>\n",
       "      <td>0.000021</td>\n",
       "      <td>0.000005</td>\n",
       "      <td>4.174</td>\n",
       "      <td>0.0</td>\n",
       "    </tr>\n",
       "  </tbody>\n",
       "</table>\n",
       "</div>"
      ],
      "text/plain": [
       "                coef   std err       z  P>|z|\n",
       "intercept -11.540500  0.435000 -26.544    0.0\n",
       "balance     0.005600  0.000000  24.835    0.0\n",
       "income      0.000021  0.000005   4.174    0.0"
      ]
     },
     "execution_count": 91,
     "metadata": {},
     "output_type": "execute_result"
    }
   ],
   "source": [
    "vars = Default_numeric.columns.drop(['default', 'student', 'student_Yes'])\n",
    "design = MS(vars)\n",
    "X = design.fit_transform(Default_numeric)\n",
    "y = Default.default == 'Yes'\n",
    "glm = sm.GLM(y,\n",
    "             X,\n",
    "             family = sm.families.Binomial())\n",
    "results = glm.fit()\n",
    "summarize(results)"
   ]
  },
  {
   "cell_type": "code",
   "execution_count": 92,
   "id": "375e58e2-9c69-493a-a213-c09a10beabf9",
   "metadata": {},
   "outputs": [],
   "source": [
    "def boot_fn(model_matrix, response, D, idx):\n",
    "    D_ = D.loc[idx]\n",
    "    Y_ = D_[response]\n",
    "    X_ = clone(model_matrix).fit_transform(D_)\n",
    "    return sm.GLM(Y_, X_, family = sm.families.Binomial()).fit().params"
   ]
  },
  {
   "cell_type": "code",
   "execution_count": 93,
   "id": "53625c62-26ff-40b4-a46e-1ea76f634284",
   "metadata": {},
   "outputs": [],
   "source": [
    "hp_func = partial(boot_fn, MS(vars), 'default')"
   ]
  },
  {
   "cell_type": "code",
   "execution_count": 94,
   "id": "41561914-0ed1-4fad-9757-1059c850c78b",
   "metadata": {},
   "outputs": [
    {
     "data": {
      "text/plain": [
       "array([[-1.16416373e+01,  5.73877605e-03,  1.87775777e-05],\n",
       "       [-1.27619965e+01,  6.16200434e-03,  3.20594655e-05],\n",
       "       [-1.12850364e+01,  5.61832222e-03,  1.59221870e-05],\n",
       "       [-1.09975828e+01,  5.41168597e-03,  1.40723398e-05],\n",
       "       [-1.13173469e+01,  5.70216361e-03,  1.12728778e-05],\n",
       "       [-1.17516107e+01,  5.83443562e-03,  1.85974460e-05],\n",
       "       [-1.12884834e+01,  5.53172383e-03,  1.52822182e-05],\n",
       "       [-1.13883312e+01,  5.70192972e-03,  1.73720495e-05],\n",
       "       [-1.11098351e+01,  5.28010522e-03,  2.33921172e-05],\n",
       "       [-1.10505563e+01,  5.46083916e-03,  1.50937413e-05]])"
      ]
     },
     "execution_count": 94,
     "metadata": {},
     "output_type": "execute_result"
    }
   ],
   "source": [
    "rng = np.random.default_rng(0)\n",
    "np.array([hp_func(Default_numeric,\n",
    "          rng.choice(10000,\n",
    "                     10000,\n",
    "                     replace=True)) for _ in range(10)])"
   ]
  },
  {
   "cell_type": "code",
   "execution_count": 95,
   "id": "d15e135d-77f1-4f39-babc-e31eb33ea96c",
   "metadata": {},
   "outputs": [
    {
     "data": {
      "text/plain": [
       "intercept    0.425280\n",
       "balance      0.000227\n",
       "income       0.000005\n",
       "dtype: float64"
      ]
     },
     "execution_count": 95,
     "metadata": {},
     "output_type": "execute_result"
    }
   ],
   "source": [
    "hp_se = boot_SE(hp_func,\n",
    "                Default_numeric,\n",
    "                B=1000,\n",
    "                seed=10)\n",
    "hp_se"
   ]
  },
  {
   "cell_type": "code",
   "execution_count": 105,
   "id": "183c1e74-a98f-44d7-ac89-3eec4b19ccad",
   "metadata": {},
   "outputs": [
    {
     "data": {
      "text/html": [
       "<div>\n",
       "<style scoped>\n",
       "    .dataframe tbody tr th:only-of-type {\n",
       "        vertical-align: middle;\n",
       "    }\n",
       "\n",
       "    .dataframe tbody tr th {\n",
       "        vertical-align: top;\n",
       "    }\n",
       "\n",
       "    .dataframe thead th {\n",
       "        text-align: right;\n",
       "    }\n",
       "</style>\n",
       "<table border=\"1\" class=\"dataframe\">\n",
       "  <thead>\n",
       "    <tr style=\"text-align: right;\">\n",
       "      <th></th>\n",
       "      <th>default</th>\n",
       "      <th>balance</th>\n",
       "      <th>income</th>\n",
       "      <th>student_Yes</th>\n",
       "    </tr>\n",
       "  </thead>\n",
       "  <tbody>\n",
       "    <tr>\n",
       "      <th>0</th>\n",
       "      <td>0</td>\n",
       "      <td>729.526495</td>\n",
       "      <td>44361.625074</td>\n",
       "      <td>0</td>\n",
       "    </tr>\n",
       "    <tr>\n",
       "      <th>1</th>\n",
       "      <td>0</td>\n",
       "      <td>817.180407</td>\n",
       "      <td>12106.134700</td>\n",
       "      <td>1</td>\n",
       "    </tr>\n",
       "    <tr>\n",
       "      <th>2</th>\n",
       "      <td>0</td>\n",
       "      <td>1073.549164</td>\n",
       "      <td>31767.138947</td>\n",
       "      <td>0</td>\n",
       "    </tr>\n",
       "    <tr>\n",
       "      <th>3</th>\n",
       "      <td>0</td>\n",
       "      <td>529.250605</td>\n",
       "      <td>35704.493935</td>\n",
       "      <td>0</td>\n",
       "    </tr>\n",
       "    <tr>\n",
       "      <th>4</th>\n",
       "      <td>0</td>\n",
       "      <td>785.655883</td>\n",
       "      <td>38463.495879</td>\n",
       "      <td>0</td>\n",
       "    </tr>\n",
       "    <tr>\n",
       "      <th>...</th>\n",
       "      <td>...</td>\n",
       "      <td>...</td>\n",
       "      <td>...</td>\n",
       "      <td>...</td>\n",
       "    </tr>\n",
       "    <tr>\n",
       "      <th>9995</th>\n",
       "      <td>0</td>\n",
       "      <td>711.555020</td>\n",
       "      <td>52992.378914</td>\n",
       "      <td>0</td>\n",
       "    </tr>\n",
       "    <tr>\n",
       "      <th>9996</th>\n",
       "      <td>0</td>\n",
       "      <td>757.962918</td>\n",
       "      <td>19660.721768</td>\n",
       "      <td>0</td>\n",
       "    </tr>\n",
       "    <tr>\n",
       "      <th>9997</th>\n",
       "      <td>0</td>\n",
       "      <td>845.411989</td>\n",
       "      <td>58636.156984</td>\n",
       "      <td>0</td>\n",
       "    </tr>\n",
       "    <tr>\n",
       "      <th>9998</th>\n",
       "      <td>0</td>\n",
       "      <td>1569.009053</td>\n",
       "      <td>36669.112365</td>\n",
       "      <td>0</td>\n",
       "    </tr>\n",
       "    <tr>\n",
       "      <th>9999</th>\n",
       "      <td>0</td>\n",
       "      <td>200.922183</td>\n",
       "      <td>16862.952321</td>\n",
       "      <td>1</td>\n",
       "    </tr>\n",
       "  </tbody>\n",
       "</table>\n",
       "<p>10000 rows × 4 columns</p>\n",
       "</div>"
      ],
      "text/plain": [
       "      default      balance        income  student_Yes\n",
       "0           0   729.526495  44361.625074            0\n",
       "1           0   817.180407  12106.134700            1\n",
       "2           0  1073.549164  31767.138947            0\n",
       "3           0   529.250605  35704.493935            0\n",
       "4           0   785.655883  38463.495879            0\n",
       "...       ...          ...           ...          ...\n",
       "9995        0   711.555020  52992.378914            0\n",
       "9996        0   757.962918  19660.721768            0\n",
       "9997        0   845.411989  58636.156984            0\n",
       "9998        0  1569.009053  36669.112365            0\n",
       "9999        0   200.922183  16862.952321            1\n",
       "\n",
       "[10000 rows x 4 columns]"
      ]
     },
     "execution_count": 105,
     "metadata": {},
     "output_type": "execute_result"
    }
   ],
   "source": [
    "Default = load_data('Default')\n",
    "Default_numeric = pd.get_dummies(Default, columns=['student'], drop_first=True)\n",
    "Default_numeric['default'] = (Default['default'] == 'Yes').astype(int)\n",
    "Default_numeric"
   ]
  },
  {
   "cell_type": "markdown",
   "id": "409443fc-531b-48df-afc9-b13fac162d2e",
   "metadata": {},
   "source": [
    "## Question 7"
   ]
  },
  {
   "cell_type": "code",
   "execution_count": null,
   "id": "dd1bf944-4500-4d45-b256-79c8a9736ce6",
   "metadata": {},
   "outputs": [],
   "source": []
  }
 ],
 "metadata": {
  "kernelspec": {
   "display_name": "Python 3 (ipykernel)",
   "language": "python",
   "name": "python3"
  },
  "language_info": {
   "codemirror_mode": {
    "name": "ipython",
    "version": 3
   },
   "file_extension": ".py",
   "mimetype": "text/x-python",
   "name": "python",
   "nbconvert_exporter": "python",
   "pygments_lexer": "ipython3",
   "version": "3.11.5"
  }
 },
 "nbformat": 4,
 "nbformat_minor": 5
}
